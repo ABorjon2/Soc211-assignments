{
 "cells": [
  {
   "cell_type": "markdown",
   "metadata": {},
   "source": [
    "# Problem set 3\n",
    "\n",
    "Ashley Borjon \n",
    "\n",
    "Role of Race in ADHD Management\n",
    "\n",
    "March 4, 2024"
   ]
  },
  {
   "cell_type": "code",
   "execution_count": 1,
   "metadata": {
    "tags": []
   },
   "outputs": [
    {
     "data": {
      "text/html": [
       "<style>div.jp-Notebook .datagrid-container {min-height: 448px; }</style>"
      ],
      "text/plain": [
       "<IPython.core.display.HTML object>"
      ]
     },
     "metadata": {},
     "output_type": "display_data"
    },
    {
     "name": "stdout",
     "output_type": "stream",
     "text": [
      "/Users/aborjon/Desktop/stats2/soc211\n"
     ]
    }
   ],
   "source": [
    "cd \"/Users/aborjon/Desktop/stats2/soc211\""
   ]
  },
  {
   "cell_type": "code",
   "execution_count": 2,
   "metadata": {
    "tags": []
   },
   "outputs": [
    {
     "name": "stdout",
     "output_type": "stream",
     "text": [
      "-------------------------------------------------------------------------------\n",
      "      name:  <unnamed>\n",
      "       log:  /Users/aborjon/Desktop/stats2/soc211/Problem Set 3.log\n",
      "  log type:  text\n",
      " opened on:   7 Mar 2024, 16:03:25\n"
     ]
    }
   ],
   "source": [
    "log using \"Problem Set 3.log\", replace"
   ]
  },
  {
   "cell_type": "code",
   "execution_count": 3,
   "metadata": {
    "tags": []
   },
   "outputs": [
    {
     "name": "stdout",
     "output_type": "stream",
     "text": [
      "(-set more- irrelevant in this version of Stata)\n"
     ]
    }
   ],
   "source": [
    "set more off "
   ]
  },
  {
   "cell_type": "code",
   "execution_count": 7,
   "metadata": {
    "tags": []
   },
   "outputs": [
    {
     "name": "stdout",
     "output_type": "stream",
     "text": [
      "(19 vars, 33 obs)\n"
     ]
    }
   ],
   "source": [
    "insheet using /Users/aborjon/Desktop/stats2/soc211/ProblemSet3/loanrepay2013_highestresearch.csv, clear"
   ]
  },
  {
   "cell_type": "code",
   "execution_count": 8,
   "metadata": {
    "tags": []
   },
   "outputs": [
    {
     "name": "stdout",
     "output_type": "stream",
     "text": [
      "opeid         instnm        all_under     sgrnt_low_~c  xstring\n",
      "acceptrate    stabbr        netprice4l~e  igrnt_low_~c  ystring\n",
      "y_lo_inc_rpy  hgroup        spend_ugd_~w  sandigrnt_~c  markerlabel\n",
      "lo_inc_deb~n  upgrntn       x_aid_byst~r  instatetui~n\n"
     ]
    }
   ],
   "source": [
    "ds"
   ]
  },
  {
   "cell_type": "code",
   "execution_count": 9,
   "metadata": {
    "collapsed": true,
    "jupyter": {
     "outputs_hidden": true
    },
    "tags": []
   },
   "outputs": [
    {
     "name": "stdout",
     "output_type": "stream",
     "text": [
      "\n",
      "-------------------------------------------------------------------------------\n",
      "opeid                                                               (unlabeled)\n",
      "-------------------------------------------------------------------------------\n",
      "\n",
      "                  Type: Numeric (long)\n",
      "\n",
      "                 Range: [108300,396900]               Units: 100\n",
      "         Unique values: 33                        Missing .: 0/33\n",
      "\n",
      "                  Mean:  234748\n",
      "             Std. dev.: 92830.2\n",
      "\n",
      "           Percentiles:     10%       25%       50%       75%       90%\n",
      "                         131400    153500    210300    309000    374500\n",
      "\n",
      "-------------------------------------------------------------------------------\n",
      "acceptrate                                                          (unlabeled)\n",
      "-------------------------------------------------------------------------------\n",
      "\n",
      "                  Type: Numeric (float)\n",
      "\n",
      "                 Range: [.21463495,.91753805]         Units: 1.000e-08\n",
      "         Unique values: 33                        Missing .: 0/33\n",
      "\n",
      "                  Mean: .584394\n",
      "             Std. dev.:  .18895\n",
      "\n",
      "           Percentiles:     10%       25%       50%       75%       90%\n",
      "                        .339553   .453192   .594614   .726273    .84045\n",
      "\n",
      "-------------------------------------------------------------------------------\n",
      "y_lo_inc_rpy                                                       Y_lo_inc_rpy\n",
      "-------------------------------------------------------------------------------\n",
      "\n",
      "                  Type: Numeric (float)\n",
      "\n",
      "                 Range: [47.9304,78.4337]             Units: .0001\n",
      "         Unique values: 33                        Missing .: 0/33\n",
      "\n",
      "                  Mean: 66.2211\n",
      "             Std. dev.: 8.30001\n",
      "\n",
      "           Percentiles:     10%       25%       50%       75%       90%\n",
      "                        56.1845   60.4167   67.2012   73.6202   75.6098\n",
      "\n",
      "-------------------------------------------------------------------------------\n",
      "lo_inc_debt_mdn                                                     (unlabeled)\n",
      "-------------------------------------------------------------------------------\n",
      "\n",
      "                  Type: Numeric (float)\n",
      "\n",
      "                 Range: [9519.867,17844.371]          Units: .001\n",
      "         Unique values: 29                        Missing .: 0/33\n",
      "\n",
      "                  Mean: 13481.1\n",
      "             Std. dev.:  2160.8\n",
      "\n",
      "           Percentiles:     10%       25%       50%       75%       90%\n",
      "                        11037.5   11661.1   13581.1   15176.6   16269.9\n",
      "\n",
      "-------------------------------------------------------------------------------\n",
      "instnm                                                              (unlabeled)\n",
      "-------------------------------------------------------------------------------\n",
      "\n",
      "                  Type: String (str43)\n",
      "\n",
      "         Unique values: 33                        Missing \"\": 0/33\n",
      "\n",
      "              Examples: \"Purdue University-Main Campus\"\n",
      "                        \"University of California-Berkeley\"\n",
      "                        \"University of Colorado at Boulder\"\n",
      "                        \"University of Minnesota-Twin Cities\"\n",
      "\n",
      "               Warning: Variable has embedded blanks.\n",
      "\n",
      "-------------------------------------------------------------------------------\n",
      "stabbr                                                              (unlabeled)\n",
      "-------------------------------------------------------------------------------\n",
      "\n",
      "                  Type: String (str2)\n",
      "\n",
      "         Unique values: 23                        Missing \"\": 0/33\n",
      "\n",
      "              Examples: \"CA\"\n",
      "                        \"IL\"\n",
      "                        \"MI\"\n",
      "                        \"OH\"\n",
      "\n",
      "-------------------------------------------------------------------------------\n",
      "hgroup                                                              (unlabeled)\n",
      "-------------------------------------------------------------------------------\n",
      "\n",
      "                  Type: Numeric (byte)\n",
      "\n",
      "                 Range: [1,1]                         Units: 1\n",
      "         Unique values: 1                         Missing .: 0/33\n",
      "\n",
      "            Tabulation: Freq.  Value\n",
      "                           33  1\n",
      "\n",
      "-------------------------------------------------------------------------------\n",
      "upgrntn                                                             (unlabeled)\n",
      "-------------------------------------------------------------------------------\n",
      "\n",
      "                  Type: Numeric (long)\n",
      "\n",
      "                 Range: [7490,40890]                  Units: 1\n",
      "         Unique values: 33                        Missing .: 0/33\n",
      "\n",
      "                  Mean: 26573.7\n",
      "             Std. dev.: 9923.16\n",
      "\n",
      "           Percentiles:     10%       25%       50%       75%       90%\n",
      "                          14547     18719     25161     35778     40392\n",
      "\n",
      "-------------------------------------------------------------------------------\n",
      "all_under                                                           (unlabeled)\n",
      "-------------------------------------------------------------------------------\n",
      "\n",
      "                  Type: Numeric (long)\n",
      "\n",
      "                 Range: [55740,169404]                Units: 1\n",
      "         Unique values: 33                        Missing .: 0/33\n",
      "\n",
      "                  Mean:  106268\n",
      "             Std. dev.: 29157.6\n",
      "\n",
      "           Percentiles:     10%       25%       50%       75%       90%\n",
      "                          73258     80273    106338    127554    146122\n",
      "\n",
      "-------------------------------------------------------------------------------\n",
      "netprice4lowincome                                                  (unlabeled)\n",
      "-------------------------------------------------------------------------------\n",
      "\n",
      "                  Type: Numeric (float)\n",
      "\n",
      "                 Range: [3554.2925,19457.66]          Units: .0001\n",
      "         Unique values: 33                        Missing .: 0/33\n",
      "\n",
      "                  Mean: 8868.64\n",
      "             Std. dev.: 3298.64\n",
      "\n",
      "           Percentiles:     10%       25%       50%       75%       90%\n",
      "                        4904.86   7102.09   8687.92   10057.9   13056.6\n",
      "\n",
      "-------------------------------------------------------------------------------\n",
      "spend_ugd_4yr_low                                                   (unlabeled)\n",
      "-------------------------------------------------------------------------------\n",
      "\n",
      "                  Type: Numeric (float)\n",
      "\n",
      "                 Range: [2.182507,4222.835]           Units: 1.000e-06\n",
      "         Unique values: 23                        Missing .: 0/33\n",
      "\n",
      "                  Mean: 2092.09\n",
      "             Std. dev.: 1505.81\n",
      "\n",
      "           Percentiles:     10%       25%       50%       75%       90%\n",
      "                        329.111   453.643   2259.46   3182.64   4156.29\n",
      "\n",
      "-------------------------------------------------------------------------------\n",
      "x_aid_bysticker                                                 X_aid_bysticker\n",
      "-------------------------------------------------------------------------------\n",
      "\n",
      "                  Type: Numeric (float)\n",
      "\n",
      "                 Range: [.0455,59.5033]               Units: .0001\n",
      "         Unique values: 23                        Missing .: 0/33\n",
      "\n",
      "                  Mean: 27.4291\n",
      "             Std. dev.: 20.0201\n",
      "\n",
      "           Percentiles:     10%       25%       50%       75%       90%\n",
      "                         3.2277    8.3263   27.0714   43.5452   54.2455\n",
      "\n",
      "-------------------------------------------------------------------------------\n",
      "sgrnt_low_inc                                                       (unlabeled)\n",
      "-------------------------------------------------------------------------------\n",
      "\n",
      "                  Type: Numeric (float)\n",
      "\n",
      "                 Range: [438.66541,31988.313]         Units: .00001\n",
      "         Unique values: 33                        Missing .: 0/33\n",
      "\n",
      "                  Mean:  5975.7\n",
      "             Std. dev.: 5837.97\n",
      "\n",
      "           Percentiles:     10%       25%       50%       75%       90%\n",
      "                        714.635   1529.61   5026.69   8263.27   10553.3\n",
      "\n",
      "-------------------------------------------------------------------------------\n",
      "igrnt_low_inc                                                       (unlabeled)\n",
      "-------------------------------------------------------------------------------\n",
      "\n",
      "                  Type: Numeric (float)\n",
      "\n",
      "                 Range: [3598.4646,32927.473]         Units: .0001\n",
      "         Unique values: 33                        Missing .: 0/33\n",
      "\n",
      "                  Mean: 15096.3\n",
      "             Std. dev.: 7267.91\n",
      "\n",
      "           Percentiles:     10%       25%       50%       75%       90%\n",
      "                        8082.98   10928.7   12994.1   19387.6   25252.8\n",
      "\n",
      "-------------------------------------------------------------------------------\n",
      "sandigrnt_low_inc                                                   (unlabeled)\n",
      "-------------------------------------------------------------------------------\n",
      "\n",
      "                  Type: Numeric (float)\n",
      "\n",
      "                 Range: [8625.154,43985.016]          Units: .001\n",
      "         Unique values: 33                        Missing .: 0/33\n",
      "\n",
      "                  Mean:   21072\n",
      "             Std. dev.: 7796.24\n",
      "\n",
      "           Percentiles:     10%       25%       50%       75%       90%\n",
      "                          13157     15350   19863.7   24298.4   30938.5\n",
      "\n",
      "-------------------------------------------------------------------------------\n",
      "instatetuition                                                      (unlabeled)\n",
      "-------------------------------------------------------------------------------\n",
      "\n",
      "                  Type: Numeric (float)\n",
      "\n",
      "                 Range: [5647.7734,16535.955]         Units: .0001\n",
      "         Unique values: 23                        Missing .: 0/33\n",
      "\n",
      "                  Mean: 10526.8\n",
      "             Std. dev.:  2454.7\n",
      "\n",
      "           Percentiles:     10%       25%       50%       75%       90%\n",
      "                        7657.99   8985.73   9905.68   12355.8   13324.3\n",
      "\n",
      "-------------------------------------------------------------------------------\n",
      "xstring                                                             (unlabeled)\n",
      "-------------------------------------------------------------------------------\n",
      "\n",
      "                  Type: Numeric (byte)\n",
      "\n",
      "                 Range: [0,60]                        Units: 1\n",
      "         Unique values: 19                        Missing .: 0/33\n",
      "\n",
      "                  Mean: 27.4848\n",
      "             Std. dev.: 20.0064\n",
      "\n",
      "           Percentiles:     10%       25%       50%       75%       90%\n",
      "                              3         8        27        44        54\n",
      "\n",
      "-------------------------------------------------------------------------------\n",
      "ystring                                                             (unlabeled)\n",
      "-------------------------------------------------------------------------------\n",
      "\n",
      "                  Type: Numeric (byte)\n",
      "\n",
      "                 Range: [48,78]                       Units: 1\n",
      "         Unique values: 19                        Missing .: 0/33\n",
      "\n",
      "                  Mean: 66.2727\n",
      "             Std. dev.: 8.34144\n",
      "\n",
      "           Percentiles:     10%       25%       50%       75%       90%\n",
      "                             56        60        67        74        76\n",
      "\n",
      "-------------------------------------------------------------------------------\n",
      "markerlabel                                                         (unlabeled)\n",
      "-------------------------------------------------------------------------------\n",
      "\n",
      "                  Type: String (str6)\n",
      "\n",
      "         Unique values: 31                        Missing \"\": 0/33\n",
      "\n",
      "              Examples: \"18, 75\"\n",
      "                        \"3, 68\"\n",
      "                        \"39, 75\"\n",
      "                        \"54, 74\"\n",
      "\n",
      "               Warning: Variable has embedded blanks.\n"
     ]
    }
   ],
   "source": [
    "codebook"
   ]
  },
  {
   "cell_type": "code",
   "execution_count": 10,
   "metadata": {
    "tags": []
   },
   "outputs": [
    {
     "name": "stdout",
     "output_type": "stream",
     "text": [
      "\n",
      "    Variable |        Obs        Mean    Std. dev.       Min        Max\n",
      "-------------+---------------------------------------------------------\n",
      "lo_inc_deb~n |         33    13481.14    2160.799   9519.867   17844.37\n",
      "spend_ugd_~w |         33     2092.09     1505.81   2.182507   4222.835\n"
     ]
    }
   ],
   "source": [
    "sum lo_inc_debt_mdn spend_ugd_4yr_low "
   ]
  },
  {
   "cell_type": "code",
   "execution_count": 11,
   "metadata": {
    "tags": []
   },
   "outputs": [],
   "source": [
    "xtile spendquant = spend_ugd_4yr_low, nq(5)"
   ]
  },
  {
   "cell_type": "code",
   "execution_count": 12,
   "metadata": {
    "tags": []
   },
   "outputs": [
    {
     "name": "stdout",
     "output_type": "stream",
     "text": [
      "\n",
      "                      spend_ugd_4yr_low\n",
      "-------------------------------------------------------------\n",
      "      Percentiles      Smallest\n",
      " 1%     2.182507       2.182507\n",
      " 5%     127.7586       127.7586\n",
      "10%     329.1107       127.7586       Obs                  33\n",
      "25%     453.6433       329.1107       Sum of wgt.          33\n",
      "\n",
      "50%     2259.464                      Mean            2092.09\n",
      "                        Largest       Std. dev.       1505.81\n",
      "75%     3182.643        4156.29\n",
      "90%      4156.29        4156.29       Variance        2267464\n",
      "95%      4156.29        4156.29       Skewness        .067065\n",
      "99%     4222.835       4222.835       Kurtosis       1.561742\n",
      "\n",
      "5 quantiles |\n",
      "         of |\n",
      "spend_ugd_4 |\n",
      "     yr_low |      Freq.     Percent        Cum.\n",
      "------------+-----------------------------------\n",
      "          1 |          7       21.21       21.21\n",
      "          2 |          7       21.21       42.42\n",
      "          3 |          7       21.21       63.64\n",
      "          4 |         11       33.33       96.97\n",
      "          5 |          1        3.03      100.00\n",
      "------------+-----------------------------------\n",
      "      Total |         33      100.00\n"
     ]
    }
   ],
   "source": [
    "sum spend_ugd_4yr_low, detail\n",
    "tab spendquant"
   ]
  },
  {
   "cell_type": "code",
   "execution_count": 13,
   "metadata": {
    "tags": []
   },
   "outputs": [
    {
     "data": {
      "text/html": [
       "<div>\n",
       "<style scoped>\n",
       "    .dataframe tbody tr th:only-of-type {\n",
       "        vertical-align: middle;\n",
       "    }\n",
       "\n",
       "    .dataframe tbody tr th {\n",
       "        vertical-align: top;\n",
       "    }\n",
       "\n",
       "    .dataframe thead th {\n",
       "        text-align: right;\n",
       "    }\n",
       "</style>\n",
       "<table border=\"1\" class=\"dataframe\">\n",
       "  <thead>\n",
       "    <tr style=\"text-align: right;\">\n",
       "      <th></th>\n",
       "      <th>lo_inc_debt_mdn</th>\n",
       "      <th>spend_ugd_4yr_low</th>\n",
       "      <th>spendquant</th>\n",
       "    </tr>\n",
       "  </thead>\n",
       "  <tbody>\n",
       "    <tr>\n",
       "      <th>1</th>\n",
       "      <td>12417.22</td>\n",
       "      <td>453.6433</td>\n",
       "      <td>2</td>\n",
       "    </tr>\n",
       "    <tr>\n",
       "      <th>2</th>\n",
       "      <td>13589.4</td>\n",
       "      <td>4156.29</td>\n",
       "      <td>4</td>\n",
       "    </tr>\n",
       "    <tr>\n",
       "      <th>3</th>\n",
       "      <td>11037.53</td>\n",
       "      <td>4156.29</td>\n",
       "      <td>4</td>\n",
       "    </tr>\n",
       "    <tr>\n",
       "      <th>4</th>\n",
       "      <td>12486.75</td>\n",
       "      <td>4156.29</td>\n",
       "      <td>4</td>\n",
       "    </tr>\n",
       "    <tr>\n",
       "      <th>5</th>\n",
       "      <td>12445.92</td>\n",
       "      <td>4156.29</td>\n",
       "      <td>4</td>\n",
       "    </tr>\n",
       "  </tbody>\n",
       "</table>\n",
       "</div>"
      ]
     },
     "metadata": {},
     "output_type": "display_data"
    }
   ],
   "source": [
    "%head lo_inc_debt_mdn spend_ugd_4yr_low spendquant"
   ]
  },
  {
   "cell_type": "code",
   "execution_count": 14,
   "metadata": {
    "tags": []
   },
   "outputs": [
    {
     "data": {
      "text/html": [
       "<div>\n",
       "<style scoped>\n",
       "    .dataframe tbody tr th:only-of-type {\n",
       "        vertical-align: middle;\n",
       "    }\n",
       "\n",
       "    .dataframe tbody tr th {\n",
       "        vertical-align: top;\n",
       "    }\n",
       "\n",
       "    .dataframe thead th {\n",
       "        text-align: right;\n",
       "    }\n",
       "</style>\n",
       "<table border=\"1\" class=\"dataframe\">\n",
       "  <thead>\n",
       "    <tr style=\"text-align: right;\">\n",
       "      <th></th>\n",
       "      <th>lo_inc_debt_mdn</th>\n",
       "      <th>spend_ugd_4yr_low</th>\n",
       "      <th>spendquant</th>\n",
       "    </tr>\n",
       "  </thead>\n",
       "  <tbody>\n",
       "    <tr>\n",
       "      <th>29</th>\n",
       "      <td>15976.82</td>\n",
       "      <td>2622.608</td>\n",
       "      <td>3</td>\n",
       "    </tr>\n",
       "    <tr>\n",
       "      <th>30</th>\n",
       "      <td>9933.774</td>\n",
       "      <td>2678.626</td>\n",
       "      <td>4</td>\n",
       "    </tr>\n",
       "    <tr>\n",
       "      <th>31</th>\n",
       "      <td>11455.85</td>\n",
       "      <td>3679.734</td>\n",
       "      <td>4</td>\n",
       "    </tr>\n",
       "    <tr>\n",
       "      <th>32</th>\n",
       "      <td>15176.6</td>\n",
       "      <td>1314.106</td>\n",
       "      <td>2</td>\n",
       "    </tr>\n",
       "    <tr>\n",
       "      <th>33</th>\n",
       "      <td>12831.13</td>\n",
       "      <td>2140.77</td>\n",
       "      <td>3</td>\n",
       "    </tr>\n",
       "  </tbody>\n",
       "</table>\n",
       "</div>"
      ]
     },
     "metadata": {},
     "output_type": "display_data"
    }
   ],
   "source": [
    "%tail lo_inc_debt_mdn spend_ugd_4yr_low spendquant"
   ]
  },
  {
   "cell_type": "code",
   "execution_count": 15,
   "metadata": {
    "tags": []
   },
   "outputs": [
    {
     "name": "stdout",
     "output_type": "stream",
     "text": [
      "\n",
      "    Variable |        Obs        Mean    Std. dev.       Min        Max\n",
      "-------------+---------------------------------------------------------\n",
      "spend_ugd_~w |          7    2442.098    211.8824    2140.77   2622.608\n"
     ]
    }
   ],
   "source": [
    "sum spend_ugd_4yr_low if spendquant==3"
   ]
  },
  {
   "cell_type": "code",
   "execution_count": 17,
   "metadata": {
    "tags": []
   },
   "outputs": [
    {
     "name": "stdout",
     "output_type": "stream",
     "text": [
      "(bin=5, start=2.182507, width=487.98308)\n",
      "(bin=5, start=0, width=356.14739)\n"
     ]
    },
    {
     "data": {
      "image/png": "[encoded data removed]",
      "text/plain": [
       "<IPython.core.display.Image object>"
      ]
     },
     "metadata": {},
     "output_type": "display_data"
    },
    {
     "data": {
      "image/png": "[encoded data removed]",
      "text/plain": [
       "<IPython.core.display.Image object>"
      ]
     },
     "metadata": {},
     "output_type": "display_data"
    }
   ],
   "source": [
    "*drop spendugd1 \n",
    "*drop spendugd2 \n",
    "\n",
    "mkspline spendugd1 2442.098 spendugd2 = spend_ugd_4yr_low\n",
    "\n",
    "histogram spendugd1, name(hist1)\n",
    "histogram spendugd2, name(hist2)"
   ]
  },
  {
   "cell_type": "code",
   "execution_count": 47,
   "metadata": {
    "tags": []
   },
   "outputs": [
    {
     "name": "stdout",
     "output_type": "stream",
     "text": [
      "\n",
      "      Source |       SS           df       MS      Number of obs   =        33\n",
      "-------------+----------------------------------   F(2, 30)        =      0.19\n",
      "       Model |  1895817.11         2  947908.556   Prob > F        =    0.8257\n",
      "    Residual |   147513833        30  4917127.75   R-squared       =    0.0127\n",
      "-------------+----------------------------------   Adj R-squared   =   -0.0531\n",
      "       Total |   149409650        32  4669051.55   Root MSE        =    2217.5\n",
      "\n",
      "------------------------------------------------------------------------------\n",
      "lo_inc_deb~n | Coefficient  Std. err.      t    P>|t|     [95% conf. interval]\n",
      "-------------+----------------------------------------------------------------\n",
      "   spendugd1 |   .1261063   .4996979     0.25   0.802    -.8944129    1.146626\n",
      "   spendugd2 |  -.4200471   .6930687    -0.61   0.549    -1.835482    .9953881\n",
      "       _cons |   13478.82   768.3977    17.54   0.000     11909.54     15048.1\n",
      "------------------------------------------------------------------------------\n",
      "\u001b[31mvariable yhat already defined\n",
      "r(110);\u001b[0m\n"
     ]
    }
   ],
   "source": [
    "reg lo_inc_debt_mdn spendugd1 spendugd2\n",
    "predict yhat\n",
    "\n",
    "tw (scatter lo_inc_debt_mdn spend_ugd_4yr_low) (line yhat spend_ugd_4yr_low, sort color(purple) lwidth(thick))"
   ]
  },
  {
   "cell_type": "code",
   "execution_count": 48,
   "metadata": {
    "tags": []
   },
   "outputs": [
    {
     "name": "stdout",
     "output_type": "stream",
     "text": [
      "\u001b[31mvariable spendugd31 already defined\n",
      "r(110);\u001b[0m\n"
     ]
    }
   ],
   "source": [
    "mkspline spendugd3 = spend_ugd_4yr_low, cubic displayknots"
   ]
  },
  {
   "cell_type": "code",
   "execution_count": 49,
   "metadata": {
    "tags": []
   },
   "outputs": [
    {
     "name": "stdout",
     "output_type": "stream",
     "text": [
      "\n",
      "      Source |       SS           df       MS      Number of obs   =        33\n",
      "-------------+----------------------------------   F(4, 28)        =      1.10\n",
      "       Model |  20282006.3         4  5070501.58   Prob > F        =    0.3762\n",
      "    Residual |   129127643        28  4611701.55   R-squared       =    0.1357\n",
      "-------------+----------------------------------   Adj R-squared   =    0.0123\n",
      "       Total |   149409650        32  4669051.55   Root MSE        =    2147.5\n",
      "\n",
      "------------------------------------------------------------------------------\n",
      "lo_inc_deb~n | Coefficient  Std. err.      t    P>|t|     [95% conf. interval]\n",
      "-------------+----------------------------------------------------------------\n",
      "  spendugd31 |  -4.877568   2.584709    -1.89   0.070    -10.17211    .4169697\n",
      "  spendugd32 |   140.0925   69.42419     2.02   0.053    -2.116502    282.3015\n",
      "  spendugd33 |  -172.5078    85.9981    -2.01   0.055    -348.6669    3.651316\n",
      "  spendugd34 |   79.96149   49.60217     1.61   0.118    -21.64395    181.5669\n",
      "       _cons |   15230.88   1181.874    12.89   0.000     12809.92    17651.84\n",
      "------------------------------------------------------------------------------\n"
     ]
    }
   ],
   "source": [
    "regress lo_inc_debt_mdn spendugd3*"
   ]
  },
  {
   "cell_type": "code",
   "execution_count": 54,
   "metadata": {
    "tags": []
   },
   "outputs": [
    {
     "name": "stdout",
     "output_type": "stream",
     "text": [
      "\u001b[31mvariable yhat2 already defined\n",
      "r(110);\u001b[0m\n"
     ]
    }
   ],
   "source": [
    "predict yhat2"
   ]
  },
  {
   "cell_type": "code",
   "execution_count": 55,
   "metadata": {
    "tags": []
   },
   "outputs": [
    {
     "data": {
      "image/png": "[encoded data removed]",
      "text/plain": [
       "<IPython.core.display.Image object>"
      ]
     },
     "metadata": {},
     "output_type": "display_data"
    }
   ],
   "source": [
    "tw (scatter lo_inc_debt_mdn spend_ugd_4yr_low) (line yhat2 spend_ugd_4yr_low, sort color(purple) lwidth(thick))"
   ]
  },
  {
   "cell_type": "code",
   "execution_count": 57,
   "metadata": {
    "tags": []
   },
   "outputs": [
    {
     "name": "stdout",
     "output_type": "stream",
     "text": [
      "(tabulating estimates stored by eststo; specify \".\" to tabulate the active resu\n",
      "> lts)\n",
      "\n",
      "-------------------------------------------------------------------------------\n",
      "> -----------------------------------------------------------------------------\n",
      "> -----------------------------------------------------------------------------\n",
      "> ---\n",
      "                      (1)             (2)             (3)             (4)      \n",
      ">        (5)             (6)             (7)             (8)             (9)   \n",
      ">          (10)            (11)            (12)            (13)            (14)\n",
      ">    \n",
      "             lo_inc_deb~n    lo_inc_deb~n    lo_inc_deb~n    lo_inc_deb~n    lo\n",
      "> _inc_deb~n    lo_inc_deb~n    lo_inc_deb~n    lo_inc_deb~n    lo_inc_deb~n   \n",
      ">  lo_inc_deb~n    lo_inc_deb~n    lo_inc_deb~n    lo_inc_deb~n    lo_inc_deb~n\n",
      ">    \n",
      "                     b/se            b/se            b/se            b/se      \n",
      ">       b/se            b/se            b/se            b/se            b/se   \n",
      ">          b/se            b/se            b/se            b/se            b/se\n",
      ">    \n",
      "-------------------------------------------------------------------------------\n",
      "> -----------------------------------------------------------------------------\n",
      "> -----------------------------------------------------------------------------\n",
      "> ---\n",
      "spendugd1            0.13            0.13            0.13            0.13      \n",
      ">       0.13            0.13            0.13            0.13            0.13   \n",
      ">          0.13            0.13            0.13            0.13            0.13\n",
      ">    \n",
      "                   (0.50)          (0.50)          (0.50)          (0.50)      \n",
      ">     (0.50)          (0.50)          (0.50)          (0.50)          (0.50)   \n",
      ">        (0.50)          (0.50)          (0.50)          (0.50)          (0.50)\n",
      ">    \n",
      "spendugd2           -0.42           -0.42           -0.42           -0.42      \n",
      ">      -0.42           -0.42           -0.42           -0.42           -0.42   \n",
      ">         -0.42           -0.42           -0.42           -0.42           -0.42\n",
      ">    \n",
      "                   (0.69)          (0.69)          (0.69)          (0.69)      \n",
      ">     (0.69)          (0.69)          (0.69)          (0.69)          (0.69)   \n",
      ">        (0.69)          (0.69)          (0.69)          (0.69)          (0.69)\n",
      ">    \n",
      "_cons            13478.82***     13478.82***     13478.82***     13478.82***   \n",
      ">   13478.82***     13478.82***     13478.82***     13478.82***     13478.82***\n",
      ">      13478.82***     13478.82***     13478.82***     13478.82***     13478.82\n",
      "> ***\n",
      "                 (768.40)        (768.40)        (768.40)        (768.40)      \n",
      ">   (768.40)        (768.40)        (768.40)        (768.40)        (768.40)   \n",
      ">      (768.40)        (768.40)        (768.40)        (768.40)        (768.40)\n",
      ">    \n",
      "-------------------------------------------------------------------------------\n",
      "> -----------------------------------------------------------------------------\n",
      "> -----------------------------------------------------------------------------\n",
      "> ---\n",
      "R-Sqaured            0.01            0.01            0.01            0.01      \n",
      ">       0.01            0.01            0.01            0.01            0.01   \n",
      ">          0.01            0.01            0.01            0.01            0.01\n",
      ">    \n",
      "N                   33.00           33.00           33.00           33.00      \n",
      ">      33.00           33.00           33.00           33.00           33.00   \n",
      ">         33.00           33.00           33.00           33.00           33.00\n",
      ">    \n",
      "-------------------------------------------------------------------------------\n",
      "> -----------------------------------------------------------------------------\n",
      "> -----------------------------------------------------------------------------\n",
      "> ---\n"
     ]
    }
   ],
   "source": [
    "esttab, stats(r2 N, labels(\"R-Sqaured\" \"N\")) cells(b(star fmt(2)) ///\n",
    "se(fmt(2) par)) nobase"
   ]
  },
  {
   "cell_type": "code",
   "execution_count": 52,
   "metadata": {
    "tags": []
   },
   "outputs": [
    {
     "name": "stdout",
     "output_type": "stream",
     "text": [
      "\u001b[31mvariable spendugdquad already defined\n",
      "r(110);\u001b[0m\n"
     ]
    }
   ],
   "source": [
    "gen spendugdquad = spend_ugd_4yr_low^2"
   ]
  },
  {
   "cell_type": "code",
   "execution_count": 53,
   "metadata": {
    "tags": []
   },
   "outputs": [
    {
     "name": "stdout",
     "output_type": "stream",
     "text": [
      "\n",
      "      Source |       SS           df       MS      Number of obs   =        33\n",
      "-------------+----------------------------------   F(2, 30)        =      0.07\n",
      "       Model |  668305.998         2  334152.999   Prob > F        =    0.9350\n",
      "    Residual |   148741344        30  4958044.79   R-squared       =    0.0045\n",
      "-------------+----------------------------------   Adj R-squared   =   -0.0619\n",
      "       Total |   149409650        32  4669051.55   Root MSE        =    2226.7\n",
      "\n",
      "------------------------------------------------------------------------------\n",
      "lo_inc_deb~n | Coefficient  Std. err.      t    P>|t|     [95% conf. interval]\n",
      "-------------+----------------------------------------------------------------\n",
      "spend_ugd_~w |    .015965   1.044832     0.02   0.988    -2.117867    2.149797\n",
      "spendugdquad |  -.0000252   .0002362    -0.11   0.916    -.0005075    .0004571\n",
      "       _cons |   13613.22   875.7008    15.55   0.000      11824.8    15401.64\n",
      "------------------------------------------------------------------------------\n"
     ]
    }
   ],
   "source": [
    "regress lo_inc_debt_mdn spend_ugd_4yr_low spendugdquad"
   ]
  },
  {
   "cell_type": "code",
   "execution_count": 25,
   "metadata": {
    "tags": []
   },
   "outputs": [
    {
     "data": {
      "image/png": "[encoded data removed]",
      "text/plain": [
       "<IPython.core.display.Image object>"
      ]
     },
     "metadata": {},
     "output_type": "display_data"
    }
   ],
   "source": [
    "tw (scatter lo_inc_debt_mdn spend_ugd_4yr_low, sort) ///\n",
    "(lfit lo_inc_debt_mdn spend_ugd_4yr_low, color(red) lwidth(thick)) ///\n",
    "(qfit lo_inc_debt_mdn spend_ugd_4yr_low, color(green) lwidth(thick)), ///\n",
    "legend(off) name(quadratic, replace)"
   ]
  },
  {
   "cell_type": "code",
   "execution_count": 26,
   "metadata": {
    "tags": []
   },
   "outputs": [],
   "source": [
    "gen loggeddebtmdn=log10(lo_inc_debt_mdn)"
   ]
  },
  {
   "cell_type": "code",
   "execution_count": 27,
   "metadata": {
    "tags": []
   },
   "outputs": [
    {
     "name": "stdout",
     "output_type": "stream",
     "text": [
      "\n",
      "      Source |       SS           df       MS      Number of obs   =        33\n",
      "-------------+----------------------------------   F(1, 31)        =      0.10\n",
      "       Model |  .000519343         1  .000519343   Prob > F        =    0.7502\n",
      "    Residual |  .156074017        31  .005034646   R-squared       =    0.0033\n",
      "-------------+----------------------------------   Adj R-squared   =   -0.0288\n",
      "       Total |  .156593361        32  .004893543   Root MSE        =    .07096\n",
      "\n",
      "------------------------------------------------------------------------------\n",
      "loggeddebt~n | Coefficient  Std. err.      t    P>|t|     [95% conf. interval]\n",
      "-------------+----------------------------------------------------------------\n",
      "spend_ugd_~w |  -2.68e-06   8.33e-06    -0.32   0.750    -.0000197    .0000143\n",
      "       _cons |    4.12989   .0213603   193.34   0.000     4.086325    4.173454\n",
      "------------------------------------------------------------------------------\n"
     ]
    }
   ],
   "source": [
    "reg loggeddebtmdn spend_ugd_4yr_low"
   ]
  },
  {
   "cell_type": "code",
   "execution_count": 28,
   "metadata": {
    "tags": []
   },
   "outputs": [
    {
     "name": "stdout",
     "output_type": "stream",
     "text": [
      "(option xb assumed; fitted values)\n",
      "(33 real changes made)\n"
     ]
    }
   ],
   "source": [
    "predict yhat3\n",
    "replace yhat3=10^(yhat3)\n",
    "\n",
    "qui regress lo_inc_debt_mdn spend_ugd_4yr_low\n",
    "predict yhat4, xb"
   ]
  },
  {
   "cell_type": "code",
   "execution_count": 29,
   "metadata": {
    "tags": []
   },
   "outputs": [
    {
     "data": {
      "image/png": "[encoded data removed]",
      "text/plain": [
       "<IPython.core.display.Image object>"
      ]
     },
     "metadata": {},
     "output_type": "display_data"
    }
   ],
   "source": [
    "tw (scatter lo_inc_debt_mdn spend_ugd_4yr_low) ///\n",
    "(line yhat4 spend_ugd_4yr_low, sort color(red) lwidth(thick)) ///\n",
    "(line yhat3 spend_ugd_4yr_low, sort color(blue) lwidth(thick)), legend(off)"
   ]
  },
  {
   "cell_type": "code",
   "execution_count": 30,
   "metadata": {
    "tags": []
   },
   "outputs": [
    {
     "name": "stdout",
     "output_type": "stream",
     "text": [
      "\n",
      "                       lo_inc_debt_mdn\n",
      "-------------------------------------------------------------\n",
      "      Percentiles      Smallest\n",
      " 1%     9519.867       9519.867\n",
      " 5%     9933.774       9933.774\n",
      "10%     11037.53       10485.65       Obs                  33\n",
      "25%     11661.15       11037.53       Sum of wgt.          33\n",
      "\n",
      "50%     13581.13                      Mean           13481.14\n",
      "                        Largest       Std. dev.      2160.799\n",
      "75%      15176.6       16269.87\n",
      "90%     16269.87       16422.74       Variance        4669052\n",
      "95%     17660.04       17660.04       Skewness       .2221317\n",
      "99%     17844.37       17844.37       Kurtosis       2.260013\n"
     ]
    }
   ],
   "source": [
    "sum lo_inc_debt_mdn, detail"
   ]
  },
  {
   "cell_type": "markdown",
   "metadata": {
    "tags": []
   },
   "source": [
    "## 1. Develop hypotheses about two non-linear relationships [1 pt]\n",
    "\n",
    "You can use the GSS data, Student aid data, or your own data. Develop at least 2 hypotheses about non-linear relationships in your dataset of choice that do the following:\n",
    "\n",
    "    A. Use the form: The DV will change positive/negatively if the IV changes positively/negatively/categorically (specify what the variables measure and what the categories are if you have a categorical hypothesis)\n",
    "    \n",
    "H1: The dependent variable lo_inc_debt_mdn (which I think means the median debt for students who attend college that are low income), will have a negative association with spend_ugd_4yr_low (the amount a university spends on low income students over a 4 year period).\n",
    "\n",
    "H2: The dependent variable lo_inc_debt_mdn (which I think means the median debt for students who attend college that are low income),will have a positive association with spend_ugd_4yr_low (the amount a university spends on low income students over a 4 year period).  \n",
    "\n",
    "    B. State if you expect each hypothesized relationship will be linear or take one of the 5 non-linear forms (1. nominal, 2. sequential dummies, 3. splines, 4. quadratic, 5. logarithmic). You tell us at least two different non-linear forms that you think your hypothesized relationships will or will not take.\n",
    "    \n",
    "I hypothesize that H1 will have a cubic spline relationship. \n",
    "I hypothesize that H2 will have a non-linear spline relationship. \n",
    "\n",
    "    C. State your explanation why (theory) you make the predictions in A. and B.\n",
    "    \n",
    "I think that with my prediction for H1 it is because the more a school pays over time, the less debt that student will accrue. \n",
    "I think that H2 would happen because the amount of loans that a student gets will increase over time but so will costs for the institution causing the colleges to spend more.\n",
    "\n",
    "    D. Tell us the source of your data and describe its sample.\n",
    "    \n",
    "My data is the loanrepay data from Dr. Charlie Eaton. This data was collected in 2013 that collects and compares information for financial aid for students with that of institutions of higher education in the US. "
   ]
  },
  {
   "cell_type": "markdown",
   "metadata": {
    "tags": []
   },
   "source": [
    "## 2. Conduct statistical tests for your hypothesized relationship: [3 pts]\n",
    "\n",
    "* Estimate at least 2 different types of non-linear models that test your hypotheses.\n",
    "\n",
    "* Use appropriate regression and graphical representations to represent each model.\n",
    "\n",
    "* Use esttab to compare between types of non-linear and linear models"
   ]
  },
  {
   "cell_type": "code",
   "execution_count": 44,
   "metadata": {},
   "outputs": [
    {
     "name": "stdout",
     "output_type": "stream",
     "text": [
      "\n",
      "      Source |       SS           df       MS      Number of obs   =        33\n",
      "-------------+----------------------------------   F(2, 30)        =      0.19\n",
      "       Model |  1895817.11         2  947908.556   Prob > F        =    0.8257\n",
      "    Residual |   147513833        30  4917127.75   R-squared       =    0.0127\n",
      "-------------+----------------------------------   Adj R-squared   =   -0.0531\n",
      "       Total |   149409650        32  4669051.55   Root MSE        =    2217.5\n",
      "\n",
      "------------------------------------------------------------------------------\n",
      "lo_inc_deb~n | Coefficient  Std. err.      t    P>|t|     [95% conf. interval]\n",
      "-------------+----------------------------------------------------------------\n",
      "   spendugd1 |   .1261063   .4996979     0.25   0.802    -.8944129    1.146626\n",
      "   spendugd2 |  -.4200471   .6930687    -0.61   0.549    -1.835482    .9953881\n",
      "       _cons |   13478.82   768.3977    17.54   0.000     11909.54     15048.1\n",
      "------------------------------------------------------------------------------\n",
      "(est14 stored)\n",
      "(option xb assumed; fitted values)\n"
     ]
    }
   ],
   "source": [
    "eststo: reg lo_inc_debt_mdn spendugd1 spendugd2 \n",
    "predict yhat6\n"
   ]
  },
  {
   "cell_type": "code",
   "execution_count": 58,
   "metadata": {},
   "outputs": [
    {
     "name": "stdout",
     "output_type": "stream",
     "text": [
      "(tabulating estimates stored by eststo; specify \".\" to tabulate the active resu\n",
      "> lts)\n",
      "\n",
      "-------------------------------------------------------------------------------\n",
      "> -----------------------------------------------------------------------------\n",
      "> -----------------------------------------------------------------------------\n",
      "> ---\n",
      "                      (1)             (2)             (3)             (4)      \n",
      ">        (5)             (6)             (7)             (8)             (9)   \n",
      ">          (10)            (11)            (12)            (13)            (14)\n",
      ">    \n",
      "             lo_inc_deb~n    lo_inc_deb~n    lo_inc_deb~n    lo_inc_deb~n    lo\n",
      "> _inc_deb~n    lo_inc_deb~n    lo_inc_deb~n    lo_inc_deb~n    lo_inc_deb~n   \n",
      ">  lo_inc_deb~n    lo_inc_deb~n    lo_inc_deb~n    lo_inc_deb~n    lo_inc_deb~n\n",
      ">    \n",
      "-------------------------------------------------------------------------------\n",
      "> -----------------------------------------------------------------------------\n",
      "> -----------------------------------------------------------------------------\n",
      "> ---\n",
      "spendugd1           0.126           0.126           0.126           0.126      \n",
      ">      0.126           0.126           0.126           0.126           0.126   \n",
      ">         0.126           0.126           0.126           0.126           0.126\n",
      ">    \n",
      "                   (0.25)          (0.25)          (0.25)          (0.25)      \n",
      ">     (0.25)          (0.25)          (0.25)          (0.25)          (0.25)   \n",
      ">        (0.25)          (0.25)          (0.25)          (0.25)          (0.25)\n",
      ">    \n",
      "\n",
      "spendugd2          -0.420          -0.420          -0.420          -0.420      \n",
      ">     -0.420          -0.420          -0.420          -0.420          -0.420   \n",
      ">        -0.420          -0.420          -0.420          -0.420          -0.420\n",
      ">    \n",
      "                  (-0.61)         (-0.61)         (-0.61)         (-0.61)      \n",
      ">    (-0.61)         (-0.61)         (-0.61)         (-0.61)         (-0.61)   \n",
      ">       (-0.61)         (-0.61)         (-0.61)         (-0.61)         (-0.61)\n",
      ">    \n",
      "\n",
      "_cons             13478.8***      13478.8***      13478.8***      13478.8***   \n",
      ">    13478.8***      13478.8***      13478.8***      13478.8***      13478.8***\n",
      ">       13478.8***      13478.8***      13478.8***      13478.8***      13478.8\n",
      "> ***\n",
      "                  (17.54)         (17.54)         (17.54)         (17.54)      \n",
      ">    (17.54)         (17.54)         (17.54)         (17.54)         (17.54)   \n",
      ">       (17.54)         (17.54)         (17.54)         (17.54)         (17.54)\n",
      ">    \n",
      "-------------------------------------------------------------------------------\n",
      "> -----------------------------------------------------------------------------\n",
      "> -----------------------------------------------------------------------------\n",
      "> ---\n",
      "N                      33              33              33              33      \n",
      ">         33              33              33              33              33   \n",
      ">            33              33              33              33              33\n",
      ">    \n",
      "-------------------------------------------------------------------------------\n",
      "> -----------------------------------------------------------------------------\n",
      "> -----------------------------------------------------------------------------\n",
      "> ---\n",
      "t statistics in parentheses\n",
      "* p<0.05, ** p<0.01, *** p<0.001\n"
     ]
    }
   ],
   "source": [
    "esttab"
   ]
  },
  {
   "cell_type": "markdown",
   "metadata": {},
   "source": [
    "## 3. Interpret the results [1 pt]\n",
    "\n",
    "    A. Say whether the results support or contradict your hypothesis and why\n",
    "    \n",
    "My hypotheses H1 is supported by the cubic spline interpretation this model is representative of the data but it does not show a positive relationship. My H2 hypothesis was looked at with a non-linear spline which was not a good fit and I was not able to make sense of the dat, \n",
    "    \n",
    "    B. Say whether a linear or particular non-linear model best describes your data and why\n",
    "\n",
    "A non-linear cubic spline model best describes my data. With the non-linear spline there was difficulty in interpretation, this could be because of assumptions I made for where the knots were on the spline. "
   ]
  },
  {
   "cell_type": "code",
   "execution_count": null,
   "metadata": {},
   "outputs": [],
   "source": [
    "capture, log close "
   ]
  }
 ],
 "metadata": {
  "kernelspec": {
   "display_name": "Stata (nbstata)",
   "language": "stata",
   "name": "nbstata"
  },
  "language_info": {
   "file_extension": ".do",
   "mimetype": "text/x-stata",
   "name": "stata",
   "version": "17"
  }
 },
 "nbformat": 4,
 "nbformat_minor": 4
}
