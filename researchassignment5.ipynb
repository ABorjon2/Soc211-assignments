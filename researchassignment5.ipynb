{
 "cells": [
  {
   "cell_type": "markdown",
   "metadata": {},
   "source": [
    "# Research Assignment 5 \n",
    "\n",
    "\n",
    "#### Ashley Borjon\n",
    "\n",
    "##  Confidence in Education \n",
    "\n",
    "##### April 15, 2024"
   ]
  },
  {
   "cell_type": "code",
   "execution_count": 1,
   "metadata": {
    "tags": []
   },
   "outputs": [
    {
     "data": {
      "text/html": [
       "<style>div.jp-Notebook .datagrid-container {min-height: 448px; }</style>"
      ],
      "text/plain": [
       "<IPython.core.display.HTML object>"
      ]
     },
     "metadata": {},
     "output_type": "display_data"
    },
    {
     "name": "stdout",
     "output_type": "stream",
     "text": [
      "/Users/aborjon/Desktop/stats2/soc211\n"
     ]
    }
   ],
   "source": [
    "cd \"/Users/aborjon/Desktop/stats2/soc211\""
   ]
  },
  {
   "cell_type": "code",
   "execution_count": 2,
   "metadata": {
    "tags": []
   },
   "outputs": [
    {
     "name": "stdout",
     "output_type": "stream",
     "text": [
      "-------------------------------------------------------------------------------\n",
      "      name:  <unnamed>\n",
      "       log:  /Users/aborjon/Desktop/stats2/soc211/Research Assignment 5.log\n",
      "  log type:  text\n",
      " opened on:  18 Apr 2024, 17:23:27\n"
     ]
    }
   ],
   "source": [
    "log using \"Research Assignment 5.log\", replace"
   ]
  },
  {
   "cell_type": "code",
   "execution_count": 3,
   "metadata": {
    "tags": []
   },
   "outputs": [
    {
     "name": "stdout",
     "output_type": "stream",
     "text": [
      "(-set more- irrelevant in this version of Stata)\n"
     ]
    }
   ],
   "source": [
    "set more off"
   ]
  },
  {
   "cell_type": "code",
   "execution_count": 4,
   "metadata": {
    "tags": []
   },
   "outputs": [],
   "source": [
    "use /Users/aborjon/Desktop/stats2/week10/GSS2022.dta, clear"
   ]
  },
  {
   "cell_type": "code",
   "execution_count": 5,
   "metadata": {
    "tags": []
   },
   "outputs": [],
   "source": [
    "keep educ race sex coneduc"
   ]
  },
  {
   "cell_type": "code",
   "execution_count": 6,
   "metadata": {
    "tags": []
   },
   "outputs": [
    {
     "name": "stdout",
     "output_type": "stream",
     "text": [
      "educ     sex      race     coneduc\n"
     ]
    }
   ],
   "source": [
    "ds"
   ]
  },
  {
   "cell_type": "code",
   "execution_count": 7,
   "metadata": {
    "tags": []
   },
   "outputs": [
    {
     "name": "stdout",
     "output_type": "stream",
     "text": [
      "\n",
      "-------------------------------------------------------------------------------\n",
      "educ                                           highest year of school completed\n",
      "-------------------------------------------------------------------------------\n",
      "\n",
      "                  Type: Numeric (byte)\n",
      "                 Label: EDUC, but 20 nonmissing values are not labeled\n",
      "\n",
      "                 Range: [0,20]                        Units: 1\n",
      "         Unique values: 21                        Missing .: 0/3,544\n",
      "       Unique mv codes: 1                        Missing .*: 20/3,544\n",
      "\n",
      "              Examples: 12    \n",
      "                        13    \n",
      "                        15    \n",
      "                        16    \n",
      "\n",
      "-------------------------------------------------------------------------------\n",
      "sex                                                             respondents sex\n",
      "-------------------------------------------------------------------------------\n",
      "\n",
      "                  Type: Numeric (byte)\n",
      "                 Label: GENDER\n",
      "\n",
      "                 Range: [1,2]                         Units: 1\n",
      "         Unique values: 2                         Missing .: 0/3,544\n",
      "       Unique mv codes: 3                        Missing .*: 20/3,544\n",
      "\n",
      "            Tabulation: Freq.   Numeric  Label\n",
      "                        1,627         1  male\n",
      "                        1,897         2  female\n",
      "                            8        .d  don't know\n",
      "                            9        .n  no answer\n",
      "                            3        .s  skipped on web\n",
      "\n",
      "-------------------------------------------------------------------------------\n",
      "race                                                         race of respondent\n",
      "-------------------------------------------------------------------------------\n",
      "\n",
      "                  Type: Numeric (byte)\n",
      "                 Label: RACE\n",
      "\n",
      "                 Range: [1,3]                         Units: 1\n",
      "         Unique values: 3                         Missing .: 0/3,544\n",
      "       Unique mv codes: 1                        Missing .*: 53/3,544\n",
      "\n",
      "            Tabulation: Freq.   Numeric  Label\n",
      "                        2,514         1  white\n",
      "                          565         2  black\n",
      "                          412         3  other\n",
      "                           53        .i  iap\n",
      "\n",
      "-------------------------------------------------------------------------------\n",
      "coneduc                                                 confidence in education\n",
      "-------------------------------------------------------------------------------\n",
      "\n",
      "                  Type: Numeric (byte)\n",
      "                 Label: INSTCONF\n",
      "\n",
      "                 Range: [1,3]                         Units: 1\n",
      "         Unique values: 3                         Missing .: 0/3,544\n",
      "       Unique mv codes: 4                        Missing .*: 1,194/3,544\n",
      "\n",
      "            Tabulation: Freq.   Numeric  Label\n",
      "                          428         1  a great deal\n",
      "                        1,355         2  only some\n",
      "                          567         3  hardly any\n",
      "                           12        .d  don't know\n",
      "                        1,173        .i  iap\n",
      "                            1        .n  no answer\n",
      "                            8        .s  skipped on web\n"
     ]
    }
   ],
   "source": [
    "codebook educ sex race coneduc"
   ]
  },
  {
   "cell_type": "code",
   "execution_count": 8,
   "metadata": {
    "tags": []
   },
   "outputs": [
    {
     "name": "stdout",
     "output_type": "stream",
     "text": [
      "\n",
      "      confidence in education |      Freq.     Percent        Cum.\n",
      "------------------------------+-----------------------------------\n",
      "                 a great deal |        428       18.21       18.21\n",
      "                    only some |      1,355       57.66       75.87\n",
      "                   hardly any |        567       24.13      100.00\n",
      "------------------------------+-----------------------------------\n",
      "                        Total |      2,350      100.00\n",
      "\n",
      " confidence |\n",
      "         in |\n",
      "  education |      Freq.     Percent        Cum.\n",
      "------------+-----------------------------------\n",
      "          1 |        428       12.08       12.08\n",
      "          2 |      1,355       38.23       50.31\n",
      "          3 |        567       16.00       66.31\n",
      "         .d |         12        0.34       66.65\n",
      "         .i |      1,173       33.10       99.75\n",
      "         .n |          1        0.03       99.77\n",
      "         .s |          8        0.23      100.00\n",
      "------------+-----------------------------------\n",
      "      Total |      3,544      100.00\n"
     ]
    }
   ],
   "source": [
    "tab coneduc\n",
    "tab coneduc, missing nol"
   ]
  },
  {
   "cell_type": "code",
   "execution_count": 9,
   "metadata": {
    "tags": []
   },
   "outputs": [
    {
     "name": "stdout",
     "output_type": "stream",
     "text": [
      "(1,194 observations deleted)\n"
     ]
    }
   ],
   "source": [
    "drop if coneduc==.d | coneduc==.i | coneduc==.n | coneduc==.s"
   ]
  },
  {
   "cell_type": "code",
   "execution_count": 10,
   "metadata": {
    "tags": []
   },
   "outputs": [
    {
     "name": "stdout",
     "output_type": "stream",
     "text": [
      "(0 real changes made)\n",
      "(1,355 real changes made)\n",
      "(567 real changes made)\n"
     ]
    }
   ],
   "source": [
    "gen con_educ=coneduc\n",
    "replace con_educ=1 if coneduc==1\n",
    "replace con_educ=0 if coneduc==2\n",
    "replace con_educ=0 if coneduc==3"
   ]
  },
  {
   "cell_type": "code",
   "execution_count": 11,
   "metadata": {
    "tags": []
   },
   "outputs": [
    {
     "name": "stdout",
     "output_type": "stream",
     "text": [
      "\n",
      "        confidence in |       con_educ\n",
      "            education |         0          1 |     Total\n",
      "----------------------+----------------------+----------\n",
      "         a great deal |         0        428 |       428 \n",
      "            only some |     1,355          0 |     1,355 \n",
      "           hardly any |       567          0 |       567 \n",
      "----------------------+----------------------+----------\n",
      "                Total |     1,922        428 |     2,350 \n"
     ]
    }
   ],
   "source": [
    "tab coneduc con_educ"
   ]
  },
  {
   "cell_type": "code",
   "execution_count": 12,
   "metadata": {
    "tags": []
   },
   "outputs": [],
   "source": [
    "label variable con_educ \"Confidence in Education\"\n",
    "label define con_educ 0 \"Not Confident\" 1 \"Confident\"\n",
    "label values con_educ con_educ"
   ]
  },
  {
   "cell_type": "code",
   "execution_count": 13,
   "metadata": {
    "tags": []
   },
   "outputs": [
    {
     "name": "stdout",
     "output_type": "stream",
     "text": [
      "\n",
      "       highest year of school |\n",
      "                    completed |      Freq.     Percent        Cum.\n",
      "------------------------------+-----------------------------------\n",
      "          no formal schooling |          3        0.13        0.13\n",
      "                            1 |          1        0.04        0.17\n",
      "                            2 |          3        0.13        0.30\n",
      "                            3 |          6        0.26        0.56\n",
      "                            4 |          6        0.26        0.81\n",
      "                            5 |          4        0.17        0.98\n",
      "                            6 |         17        0.73        1.71\n",
      "                            7 |          8        0.34        2.05\n",
      "                            8 |         21        0.90        2.95\n",
      "                            9 |         38        1.63        4.58\n",
      "                           10 |         55        2.35        6.93\n",
      "                           11 |         79        3.38       10.31\n",
      "                           12 |        624       26.69       37.00\n",
      "                           13 |        183        7.83       44.82\n",
      "                           14 |        324       13.86       58.68\n",
      "                           15 |        120        5.13       63.82\n",
      "                           16 |        450       19.25       83.06\n",
      "                           17 |        108        4.62       87.68\n",
      "                           18 |        134        5.73       93.41\n",
      "                           19 |         59        2.52       95.94\n",
      "                           20 |         95        4.06      100.00\n",
      "------------------------------+-----------------------------------\n",
      "                        Total |      2,338      100.00\n",
      "\n",
      "           race of respondent |      Freq.     Percent        Cum.\n",
      "------------------------------+-----------------------------------\n",
      "                        white |      1,671       72.28       72.28\n",
      "                        black |        364       15.74       88.02\n",
      "                        other |        277       11.98      100.00\n",
      "------------------------------+-----------------------------------\n",
      "                        Total |      2,312      100.00\n",
      "\n",
      "              respondents sex |      Freq.     Percent        Cum.\n",
      "------------------------------+-----------------------------------\n",
      "                         male |      1,050       44.95       44.95\n",
      "                       female |      1,286       55.05      100.00\n",
      "------------------------------+-----------------------------------\n",
      "                        Total |      2,336      100.00\n",
      "\n",
      "Confidence in |\n",
      "    Education |      Freq.     Percent        Cum.\n",
      "--------------+-----------------------------------\n",
      "Not Confident |      1,922       81.79       81.79\n",
      "    Confident |        428       18.21      100.00\n",
      "--------------+-----------------------------------\n",
      "        Total |      2,350      100.00\n"
     ]
    }
   ],
   "source": [
    "tab educ \n",
    "tab race\n",
    "tab sex\n",
    "tab con_educ"
   ]
  },
  {
   "cell_type": "code",
   "execution_count": 14,
   "metadata": {
    "tags": []
   },
   "outputs": [
    {
     "name": "stdout",
     "output_type": "stream",
     "text": [
      "\n",
      "respondents |\n",
      "        sex |      Freq.     Percent        Cum.\n",
      "------------+-----------------------------------\n",
      "          1 |      1,050       44.95       44.95\n",
      "          2 |      1,286       55.05      100.00\n",
      "------------+-----------------------------------\n",
      "      Total |      2,336      100.00\n",
      "(1,064 missing values generated)\n",
      "(1,050 real changes made)\n",
      "\n",
      "     female |      Freq.     Percent        Cum.\n",
      "------------+-----------------------------------\n",
      "          0 |      1,050       44.95       44.95\n",
      "          1 |      1,286       55.05      100.00\n",
      "------------+-----------------------------------\n",
      "      Total |      2,336      100.00\n"
     ]
    }
   ],
   "source": [
    "tab sex, nol\n",
    "\n",
    "gen female=1 if sex==2\n",
    "replace female=0 if sex==1\n",
    "\n",
    "tab female"
   ]
  },
  {
   "cell_type": "code",
   "execution_count": 15,
   "metadata": {
    "tags": []
   },
   "outputs": [],
   "source": [
    "label variable female \"Identifies as Woman\"\n",
    "label define female 0 \"Male\" 1 \"Woman\"\n",
    "label values female female"
   ]
  },
  {
   "cell_type": "code",
   "execution_count": 16,
   "metadata": {
    "tags": []
   },
   "outputs": [
    {
     "name": "stdout",
     "output_type": "stream",
     "text": [
      "\n",
      " Identifies |\n",
      "   as Woman |      Freq.     Percent        Cum.\n",
      "------------+-----------------------------------\n",
      "       Male |      1,050       44.95       44.95\n",
      "      Woman |      1,286       55.05      100.00\n",
      "------------+-----------------------------------\n",
      "      Total |      2,336      100.00\n"
     ]
    }
   ],
   "source": [
    "tab female"
   ]
  },
  {
   "cell_type": "code",
   "execution_count": 17,
   "metadata": {
    "tags": []
   },
   "outputs": [
    {
     "name": "stdout",
     "output_type": "stream",
     "text": [
      "\n",
      "respondents |\n",
      "        sex |      Freq.     Percent        Cum.\n",
      "------------+-----------------------------------\n",
      "          1 |      1,050       44.95       44.95\n",
      "          2 |      1,286       55.05      100.00\n",
      "------------+-----------------------------------\n",
      "      Total |      2,336      100.00\n",
      "(1,300 missing values generated)\n",
      "(1,286 real changes made)\n",
      "\n",
      "       male |      Freq.     Percent        Cum.\n",
      "------------+-----------------------------------\n",
      "          0 |      1,286       55.05       55.05\n",
      "          1 |      1,050       44.95      100.00\n",
      "------------+-----------------------------------\n",
      "      Total |      2,336      100.00\n"
     ]
    }
   ],
   "source": [
    "tab sex, nol\n",
    "\n",
    "gen male=1 if sex==1\n",
    "replace male=0 if sex==2\n",
    "\n",
    "tab male"
   ]
  },
  {
   "cell_type": "code",
   "execution_count": 18,
   "metadata": {
    "tags": []
   },
   "outputs": [],
   "source": [
    "label variable male \"Identifies as Man\"\n",
    "label define male 1 \"Man\" 0 \"Woman\"\n",
    "label values male male"
   ]
  },
  {
   "cell_type": "code",
   "execution_count": 19,
   "metadata": {
    "tags": []
   },
   "outputs": [],
   "source": [
    "tab male"
   ]
  },
  {
   "cell_type": "code",
   "execution_count": 20,
   "metadata": {
    "tags": []
   },
   "outputs": [
    {
     "name": "stdout",
     "output_type": "stream",
     "text": [
      "\n",
      "       highest year of school |\n",
      "                    completed |      Freq.     Percent        Cum.\n",
      "------------------------------+-----------------------------------\n",
      "          no formal schooling |          3        0.13        0.13\n",
      "                            1 |          1        0.04        0.17\n",
      "                            2 |          3        0.13        0.30\n",
      "                            3 |          6        0.26        0.56\n",
      "                            4 |          6        0.26        0.81\n",
      "                            5 |          4        0.17        0.98\n",
      "                            6 |         17        0.73        1.71\n",
      "                            7 |          8        0.34        2.05\n",
      "                            8 |         21        0.90        2.95\n",
      "                            9 |         38        1.63        4.58\n",
      "                           10 |         55        2.35        6.93\n",
      "                           11 |         79        3.38       10.31\n",
      "                           12 |        624       26.69       37.00\n",
      "                           13 |        183        7.83       44.82\n",
      "                           14 |        324       13.86       58.68\n",
      "                           15 |        120        5.13       63.82\n",
      "                           16 |        450       19.25       83.06\n",
      "                           17 |        108        4.62       87.68\n",
      "                           18 |        134        5.73       93.41\n",
      "                           19 |         59        2.52       95.94\n",
      "                           20 |         95        4.06      100.00\n",
      "------------------------------+-----------------------------------\n",
      "                        Total |      2,338      100.00\n"
     ]
    }
   ],
   "source": [
    "tab educ"
   ]
  },
  {
   "cell_type": "code",
   "execution_count": 21,
   "metadata": {
    "tags": []
   },
   "outputs": [
    {
     "name": "stdout",
     "output_type": "stream",
     "text": [
      "\n",
      "    race of |\n",
      " respondent |      Freq.     Percent        Cum.\n",
      "------------+-----------------------------------\n",
      "          1 |      1,671       72.28       72.28\n",
      "          2 |        364       15.74       88.02\n",
      "          3 |        277       11.98      100.00\n",
      "------------+-----------------------------------\n",
      "      Total |      2,312      100.00\n",
      "(2,350 missing values generated)\n",
      "(1,671 real changes made)\n",
      "(641 real changes made)\n",
      "\n",
      "      white |      Freq.     Percent        Cum.\n",
      "------------+-----------------------------------\n",
      "          0 |        641       27.72       27.72\n",
      "          1 |      1,671       72.28      100.00\n",
      "------------+-----------------------------------\n",
      "      Total |      2,312      100.00\n"
     ]
    }
   ],
   "source": [
    "tab race, nol\n",
    "\n",
    "gen white=.\n",
    "\n",
    "replace white=1 if race==1\n",
    "replace white=0 if race==2 | race==3\n",
    "\n",
    "tab white"
   ]
  },
  {
   "cell_type": "code",
   "execution_count": 22,
   "metadata": {
    "tags": []
   },
   "outputs": [],
   "source": [
    "label variable white \"Identifies as a White Person\"\n",
    "label defin white 0 \"Not White\" 1 \"White\"\n",
    "label values white white"
   ]
  },
  {
   "cell_type": "code",
   "execution_count": 24,
   "metadata": {
    "tags": []
   },
   "outputs": [
    {
     "name": "stdout",
     "output_type": "stream",
     "text": [
      "\u001b[31mvariable college_degree already defined\n",
      "r(110);\u001b[0m\n"
     ]
    }
   ],
   "source": [
    "generate college_degree=educ\n",
    "replace college_degree=1 if educ>=16\n",
    "replace college_degree=0 if educ<16\n",
    "\n",
    "label variable college_degree \"College Degree Status\"\n",
    "label define college_degree 0 \"No College Degree\" 1 \"Has College Degree\" \n",
    "label value college_degree college_degree\n",
    "     \n",
    "tab college_degree, missing"
   ]
  },
  {
   "cell_type": "code",
   "execution_count": null,
   "metadata": {},
   "outputs": [],
   "source": []
  },
  {
   "cell_type": "code",
   "execution_count": null,
   "metadata": {},
   "outputs": [],
   "source": []
  },
  {
   "cell_type": "code",
   "execution_count": null,
   "metadata": {},
   "outputs": [],
   "source": []
  },
  {
   "cell_type": "code",
   "execution_count": null,
   "metadata": {},
   "outputs": [],
   "source": []
  },
  {
   "cell_type": "markdown",
   "metadata": {},
   "source": [
    "### 1. Develop hypotheses that approach a nominal variable in your dataset as a dependent variable (DV). [1 pt]\n",
    "\n",
    "* If your nominal variable has more than two categorical variables, such as political party affiliation categories of -- Democrat, Democratic Socialist, Green, Independent, or Republican -- develop hypotheses that treat being or not being in at least one of the categories as a dichotomous binomial dependent variable (DV).\n",
    "\n",
    "* Even if you are not interested in any categorical outcomes for your research project, still develop an hypothesis for at least one nominal variable in your data as a dependent variable. Thinking about potential influences on that variable could help you see if there are intervening relationships or omitted variable biases in your primary outcome of interest.\n",
    "\n",
    "Do the following when you write your hypothesis:\n",
    "\n",
    "    A. Write a separate hypothesis for each dependent variable (DV) you want to analyze.\n",
    "    * I hypothesize that being a white male, and having more years of education will have an association with higher confidence in education.\n",
    "    \n",
    "    B. For each dependent variable (DV) state the predicted direction of association between your dependent variable DV and independent variables (IVs) in your model. You can predict no relationship if you do not expect a relationship.\n",
    "    * The relationship between education and confidence level is positive. People of color and women will have a lower confidence in education. \n",
    "    \n",
    "    C. Write a couple sentences about the theoretical reasons (prior knowledge / research) for each of your predictions\n",
    "    * Research suggests that women and people of color have a more strained relationship with the educational system, making it more difficult for them to have a higher confidence in educational institutions. "
   ]
  },
  {
   "cell_type": "markdown",
   "metadata": {},
   "source": [
    "### 2. Test your hypotheses [3 pts]\n",
    "\n",
    "    A. Create a frequency table for your dependent variable (DV).\n",
    "\n",
    "    B. Estimate an OLS model regressing your dichotomous dependent variable (DV) on your hypothesized independent variables (IVs) and store the results.\n",
    "    \n",
    "    C. Estimate an MLE logistic model regressing your dichotomous dependent variable (DV) on your hypothesized independent variables (IVs) and store the results.\n",
    "    \n",
    "    D. Use esttab to output the coefficients for your OLS and MLE logistic models with html formatting within your Jupyter Notebook.\n",
    "    \n",
    "    E. Use esttab to reoutput your coefficients as odd ratios."
   ]
  },
  {
   "cell_type": "code",
   "execution_count": 25,
   "metadata": {
    "tags": []
   },
   "outputs": [
    {
     "name": "stdout",
     "output_type": "stream",
     "text": [
      "\n",
      "Confidence in |\n",
      "    Education |      Freq.     Percent        Cum.\n",
      "--------------+-----------------------------------\n",
      "Not Confident |      1,922       81.79       81.79\n",
      "    Confident |        428       18.21      100.00\n",
      "--------------+-----------------------------------\n",
      "        Total |      2,350      100.00\n"
     ]
    }
   ],
   "source": [
    "tab con_educ"
   ]
  },
  {
   "cell_type": "code",
   "execution_count": 38,
   "metadata": {
    "tags": []
   },
   "outputs": [],
   "source": [
    "est clear"
   ]
  },
  {
   "cell_type": "code",
   "execution_count": 39,
   "metadata": {
    "tags": []
   },
   "outputs": [
    {
     "name": "stdout",
     "output_type": "stream",
     "text": [
      "\n",
      "Linear regression                               Number of obs     =      2,300\n",
      "                                                F(3, 2296)        =       7.45\n",
      "                                                Prob > F          =     0.0001\n",
      "                                                R-squared         =     0.0110\n",
      "                                                Root MSE          =      .3824\n",
      "\n",
      "------------------------------------------------------------------------------\n",
      "             |               Robust\n",
      "    con_educ | Coefficient  std. err.      t    P>|t|     [95% conf. interval]\n",
      "-------------+----------------------------------------------------------------\n",
      "        male |\n",
      "        Man  |  -.0055956   .0160254    -0.35   0.727    -.0370214    .0258302\n",
      "             |\n",
      "       white |\n",
      "      White  |  -.0899419   .0192692    -4.67   0.000    -.1277288   -.0521549\n",
      "             |\n",
      "college_de~e |\n",
      "Has Colle..  |   .0093363   .0166173     0.56   0.574    -.0232502    .0419228\n",
      "       _cons |   .2442998   .0193322    12.64   0.000     .2063893    .2822103\n",
      "------------------------------------------------------------------------------\n",
      "(est1 stored)\n"
     ]
    }
   ],
   "source": [
    "eststo: reg con_educ i.male i.white i.college_degree, ro"
   ]
  },
  {
   "cell_type": "code",
   "execution_count": 40,
   "metadata": {
    "tags": []
   },
   "outputs": [
    {
     "name": "stdout",
     "output_type": "stream",
     "text": [
      "\n",
      "Iteration 0:  Log pseudolikelihood =  -1084.205  \n",
      "Iteration 1:  Log pseudolikelihood = -1072.2668  \n",
      "Iteration 2:  Log pseudolikelihood = -1072.1098  \n",
      "Iteration 3:  Log pseudolikelihood = -1072.1098  \n",
      "\n",
      "Logistic regression                                     Number of obs =  2,300\n",
      "                                                        Wald chi2(3)  =  25.31\n",
      "                                                        Prob > chi2   = 0.0000\n",
      "Log pseudolikelihood = -1072.1098                       Pseudo R2     = 0.0112\n",
      "\n",
      "------------------------------------------------------------------------------\n",
      "             |               Robust\n",
      "    con_educ | Coefficient  std. err.      z    P>|z|     [95% conf. interval]\n",
      "-------------+----------------------------------------------------------------\n",
      "        male |\n",
      "        Man  |  -.0384854   .1102458    -0.35   0.727    -.2545632    .1775924\n",
      "             |\n",
      "       white |\n",
      "      White  |  -.5701247   .1146027    -4.97   0.000    -.7947419   -.3455074\n",
      "             |\n",
      "college_de~e |\n",
      "Has Colle..  |   .0641444   .1134417     0.57   0.572    -.1581973    .2864861\n",
      "       _cons |   -1.13038   .1108986   -10.19   0.000    -1.347737   -.9130222\n",
      "------------------------------------------------------------------------------\n",
      "(est2 stored)\n",
      "\n",
      "Conditional marginal effects                             Number of obs = 2,300\n",
      "Model VCE: Robust\n",
      "\n",
      "Expression: Pr(con_educ), predict()\n",
      "dy/dx wrt:  1.male 1.white 1.college_degree\n",
      "At: 0.male           = .5486957 (mean)\n",
      "    1.male           = .4513043 (mean)\n",
      "    0.white          = .2752174 (mean)\n",
      "    1.white          = .7247826 (mean)\n",
      "    0.college_degree = .6343478 (mean)\n",
      "    1.college_degree = .3656522 (mean)\n",
      "\n",
      "------------------------------------------------------------------------------\n",
      "             |            Delta-method\n",
      "             |      dy/dx   std. err.      z    P>|z|     [95% conf. interval]\n",
      "-------------+----------------------------------------------------------------\n",
      "        male |\n",
      "        Man  |  -.0055969   .0160122    -0.35   0.727    -.0369803    .0257865\n",
      "             |\n",
      "       white |\n",
      "      White  |  -.0900201   .0192898    -4.67   0.000    -.1278273   -.0522128\n",
      "             |\n",
      "college_de~e |\n",
      "Has Colle..  |    .009392   .0167058     0.56   0.574    -.0233508    .0421348\n",
      "------------------------------------------------------------------------------\n",
      "Note: dy/dx for factor levels is the discrete change from the base level.\n",
      "(est3 stored)\n"
     ]
    }
   ],
   "source": [
    "eststo: logit con_educ i.male i.white i.college_degree, ro\n",
    "eststo: margins, dydx(*) post atmeans"
   ]
  },
  {
   "cell_type": "code",
   "execution_count": 41,
   "metadata": {
    "tags": []
   },
   "outputs": [
    {
     "name": "stdout",
     "output_type": "stream",
     "text": [
      "\n",
      "Unexpontiated Coefficients\n",
      "---------------------------------------------------------------\n",
      "                      (1)              (2)              (3)    \n",
      "                      OLS     MLE / logi~c     MLE margin~s    \n",
      "---------------------------------------------------------------\n",
      "main                                                           \n",
      "1.male              -0.01            -0.04            -0.01    \n",
      "                   (0.02)           (0.11)           (0.02)    \n",
      "1.white             -0.09 ***        -0.57 ***        -0.09 ***\n",
      "                   (0.02)           (0.11)           (0.02)    \n",
      "1.college_~e         0.01             0.06             0.01    \n",
      "                   (0.02)           (0.11)           (0.02)    \n",
      "_cons                0.24 ***        -1.13 ***                 \n",
      "                   (0.02)           (0.11)                     \n",
      "---------------------------------------------------------------\n",
      "N                    2300             2300             2300    \n",
      "---------------------------------------------------------------\n",
      "^ p<.1, * p<.05, ** p<.01, *** p<.001\n"
     ]
    }
   ],
   "source": [
    "esttab ///\n",
    ", cells(b(star fmt(2)) se(fmt(2) par)) stardetach  ///\n",
    "    legend starlevels(^ .1 * .05 ** .01 *** .001) ///\n",
    "mlabels(\"OLS\" \"MLE / logistic\" \"MLE marginal effects\") title(\"Unexpontiated Coefficients\") ///\n",
    "collabels(none) keep(1.college_degree 1.male 1.white _cons)"
   ]
  },
  {
   "cell_type": "code",
   "execution_count": 42,
   "metadata": {
    "tags": []
   },
   "outputs": [
    {
     "name": "stdout",
     "output_type": "stream",
     "text": [
      "\n",
      "Odds Ratio\n",
      "---------------------------------------------------------------\n",
      "                      (1)              (2)              (3)    \n",
      "                      OLS     MLE / logi~c     MLE margin~s    \n",
      "---------------------------------------------------------------\n",
      "main                                                           \n",
      "1.male               0.99             0.96             0.99    \n",
      "                   (0.02)           (0.11)           (0.02)    \n",
      "1.white              0.91 ***         0.57 ***         0.91 ***\n",
      "                   (0.02)           (0.06)           (0.02)    \n",
      "1.college_~e         1.01             1.07             1.01    \n",
      "                   (0.02)           (0.12)           (0.02)    \n",
      "---------------------------------------------------------------\n",
      "N                    2300             2300             2300    \n",
      "---------------------------------------------------------------\n",
      "Exponentiated coefficients\n",
      "^ p<.1, * p<.05, ** p<.01, *** p<.001\n"
     ]
    }
   ],
   "source": [
    "esttab ///\n",
    ", cells(b(star fmt(2)) se(fmt(2) par)) stardetach  ///\n",
    "    legend starlevels(^ .1 * .05 ** .01 *** .001) ///\n",
    "mlabels(\"OLS\" \"MLE / logistic\" \"MLE marginal effects\") title(\"Odds Ratio\") ///\n",
    "collabels(none) keep(1.white 1.male 1.college_degree _cons) eform"
   ]
  },
  {
   "cell_type": "markdown",
   "metadata": {},
   "source": [
    "### 3. Interpret your results [1 pt]\n",
    "\n",
    "Write a couple sentences answering each of the following questions:\n",
    "\n",
    "    A. How would you interpret the relationship between your dependent variable(s) (DVs) and independent variables (IVs) based on the odds ratios for you MLE logistic model?\n",
    "    In the MLE logistic model, being white is .057; this means that being white is statistically significant (*** p<.001). I think this means that there is a higher likelihood of white men being confident in education since males in the  MLE model is .96 indicating that they have a higher likelihood of confidence in education. Looking at the table, the odds for college degree does not effect the outcome of their confidence in education. \n",
    "\n",
    "    B. Do the overall estimates support or contradict your hypotheses? Why?\n",
    "    I think that the overall estimates both support and contradict my initial hypotheses. While it looks like being white has significance to confidence in education, education level does not seem to have much significance in this model. \n",
    "    \n",
    "    C. Is there anything suprising in your model estimates? Why?\n",
    "    I think I was most surprised that education level really didn't change the person's confidence level in education but I also kind-of understand that the more we become educated, the more we see holes in our institutions. \n",
    "    \n",
    "    D. How do the OLS coefficients and their standard errors compare to the MLE estimates? Are the coefficients and standard errors larger or smaller?\n",
    "    The OLS and MLE models are comparable since there is no difference in the results."
   ]
  },
  {
   "cell_type": "code",
   "execution_count": null,
   "metadata": {},
   "outputs": [],
   "source": []
  }
 ],
 "metadata": {
  "kernelspec": {
   "display_name": "Stata (nbstata)",
   "language": "stata",
   "name": "nbstata"
  },
  "language_info": {
   "file_extension": ".do",
   "mimetype": "text/x-stata",
   "name": "stata",
   "version": "17"
  }
 },
 "nbformat": 4,
 "nbformat_minor": 4
}
